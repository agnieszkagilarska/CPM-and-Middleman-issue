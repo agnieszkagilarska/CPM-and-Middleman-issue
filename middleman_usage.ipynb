{
 "cells": [
  {
   "cell_type": "code",
   "execution_count": 1,
   "metadata": {},
   "outputs": [],
   "source": [
    "from util.middleman import MiddleMan\n",
    "import numpy as np"
   ]
  },
  {
   "cell_type": "code",
   "execution_count": 2,
   "metadata": {},
   "outputs": [
    {
     "data": {
      "text/plain": [
       "'Optimal'"
      ]
     },
     "execution_count": 2,
     "metadata": {},
     "output_type": "execute_result"
    }
   ],
   "source": [
    "mm = MiddleMan()\n",
    "mm.add_supplier('D1', 20, 10)\n",
    "mm.add_supplier('D2', 30, 12)\n",
    "\n",
    "mm.add_receiver('O1', 10, 30)\n",
    "mm.add_receiver('O2', 28, 25)\n",
    "mm.add_receiver('O3', 27, 30)\n",
    "\n",
    "transport_cost_matrix = np.array([\n",
    "    [8, 14, 17],\n",
    "    [12, 9, 19]\n",
    "])\n",
    "\n",
    "mm.add_transport_matrix(transport_cost_matrix)\n",
    "\n",
    "mm.calculate()"
   ]
  },
  {
   "cell_type": "code",
   "execution_count": 3,
   "metadata": {},
   "outputs": [
    {
     "data": {
      "text/plain": [
       "262.0"
      ]
     },
     "execution_count": 3,
     "metadata": {},
     "output_type": "execute_result"
    }
   ],
   "source": [
    "mm.calculate_overall_return()"
   ]
  },
  {
   "cell_type": "code",
   "execution_count": 4,
   "metadata": {},
   "outputs": [
    {
     "data": {
      "text/plain": [
       "array([[120.,   0.,  30.],\n",
       "       [  0., 112.,  -0.]])"
      ]
     },
     "execution_count": 4,
     "metadata": {},
     "output_type": "execute_result"
    }
   ],
   "source": [
    "mm.calculate_returns()"
   ]
  }
 ],
 "metadata": {
  "kernelspec": {
   "display_name": "Python 3",
   "language": "python",
   "name": "python3"
  },
  "language_info": {
   "codemirror_mode": {
    "name": "ipython",
    "version": 3
   },
   "file_extension": ".py",
   "mimetype": "text/x-python",
   "name": "python",
   "nbconvert_exporter": "python",
   "pygments_lexer": "ipython3",
   "version": "3.11.4"
  }
 },
 "nbformat": 4,
 "nbformat_minor": 2
}
