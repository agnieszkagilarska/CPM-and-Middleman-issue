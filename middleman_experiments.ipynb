{
 "cells": [
  {
   "cell_type": "code",
   "execution_count": 1,
   "metadata": {},
   "outputs": [],
   "source": [
    "import pandas as pd\n",
    "import numpy as np"
   ]
  },
  {
   "cell_type": "code",
   "execution_count": 2,
   "metadata": {},
   "outputs": [],
   "source": [
    "# Name, Supply, Cost\n",
    "suppliers = [('D1', 20, 10), ('D2', 30, 12)]\n",
    "\n",
    "# Name, Demand, Price\n",
    "receivers = [('O1', 10, 30), ('O2', 28, 25), ('O3', 27, 30)]\n",
    "\n",
    "# rows:    suppliers\n",
    "# columns: receivers\n",
    "transport_cost_matrix = np.array([\n",
    "    [8, 14, 17],\n",
    "    [12, 9, 19]\n",
    "])"
   ]
  },
  {
   "cell_type": "code",
   "execution_count": 3,
   "metadata": {},
   "outputs": [],
   "source": [
    "def unit_profits_matrix(transport_cost_matrix, suppliers, receivers):\n",
    "    un_pr_matrix = np.empty_like(transport_cost_matrix)\n",
    "    # Suppliers\n",
    "    for i, row in enumerate(transport_cost_matrix):\n",
    "        # Receivers\n",
    "        for j, num in enumerate(row):\n",
    "            \n",
    "            un_pr_matrix[i, j] = receivers[j][2] - suppliers[i][2] - transport_cost_matrix[i, j]\n",
    "    \n",
    "    return un_pr_matrix\n",
    "\n",
    "def supply_demand_sum(suppliers, receivers, supp_idx=1, rec_idx=1):\n",
    "    supp_sum = sum([supp[supp_idx] for supp in suppliers])\n",
    "    dmnd_sum = sum([recv[rec_idx] for recv in receivers])\n",
    "    return supp_sum, dmnd_sum"
   ]
  },
  {
   "cell_type": "code",
   "execution_count": 4,
   "metadata": {},
   "outputs": [],
   "source": [
    "unit_profits = unit_profits_matrix(transport_cost_matrix, suppliers, receivers)"
   ]
  },
  {
   "cell_type": "code",
   "execution_count": 5,
   "metadata": {},
   "outputs": [
    {
     "data": {
      "text/plain": [
       "(array([0, 1, 1, 0, 0, 1], dtype=int64),\n",
       " array([0, 0, 1, 2, 1, 2], dtype=int64))"
      ]
     },
     "execution_count": 5,
     "metadata": {},
     "output_type": "execute_result"
    }
   ],
   "source": [
    "indices = np.argsort(unit_profits, axis=None)[::-1]\n",
    "indices = np.unravel_index(indices, unit_profits.shape)\n",
    "indices"
   ]
  },
  {
   "cell_type": "code",
   "execution_count": 6,
   "metadata": {},
   "outputs": [],
   "source": [
    "supp_sum, dmnd_sum = supply_demand_sum(suppliers, receivers)\n",
    "\n",
    "if supp_sum != dmnd_sum:\n",
    "    unit_profits = np.pad(unit_profits, ((0, 1), (0, 1)), 'constant', constant_values=0)\n",
    "    transport_cost_matrix = np.pad(transport_cost_matrix, ((0, 1), (0, 1)), 'constant', constant_values=0)\n",
    "    suppliers.append(('DF', dmnd_sum, 0))\n",
    "    receivers.append(('OF', supp_sum, 0))"
   ]
  },
  {
   "cell_type": "code",
   "execution_count": 7,
   "metadata": {},
   "outputs": [
    {
     "data": {
      "text/plain": [
       "(array([[12,  1,  3,  0],\n",
       "        [ 6,  4, -1,  0],\n",
       "        [ 0,  0,  0,  0]]),\n",
       " [('D1', 20, 10), ('D2', 30, 12), ('DF', 65, 0)],\n",
       " [('O1', 10, 30), ('O2', 28, 25), ('O3', 27, 30), ('OF', 50, 0)])"
      ]
     },
     "execution_count": 7,
     "metadata": {},
     "output_type": "execute_result"
    }
   ],
   "source": [
    "unit_profits, suppliers, receivers"
   ]
  },
  {
   "cell_type": "code",
   "execution_count": 8,
   "metadata": {},
   "outputs": [],
   "source": [
    "def sales_matrix(unit_profits, suppliers, receivers, supp_idx=1, rec_idx=1):\n",
    "    suppliers_cpy = [list(tup) for tup in suppliers]\n",
    "    receivers_cpy = [list(tup) for tup in receivers]\n",
    "    # We start from REAL Suppliers and Receivers:\n",
    "    sales = np.zeros(unit_profits.shape)\n",
    "    for idx, jdx in zip(*indices):\n",
    "        # Each iteration is one supplier-receiver transaction\n",
    "        unit_profit = unit_profits[idx, jdx]\n",
    "        supp_name, supply, cost = suppliers_cpy[idx]\n",
    "        recv_name, demand, price = receivers_cpy[jdx]\n",
    "        if supply == 0 or demand == 0:\n",
    "            continue\n",
    "        \n",
    "        supply_after = supply - demand\n",
    "        if supply_after >= 0:\n",
    "            # no supply\n",
    "            sales[idx, jdx] = demand\n",
    "            \n",
    "            # Update\n",
    "            suppliers_cpy[idx][supp_idx] = supply_after\n",
    "            receivers_cpy[jdx][rec_idx]  = 0\n",
    "        if supply_after < 0:\n",
    "            # no demand\n",
    "            sales[idx, jdx] = supply\n",
    "            \n",
    "            # Update\n",
    "            suppliers_cpy[idx][supp_idx] = 0\n",
    "            receivers_cpy[jdx][rec_idx]  = -supply_after\n",
    "    \n",
    "    # We go to FICTIONAL Suppliers and Receivers\n",
    "    for idx, row in enumerate(sales):\n",
    "        for jdx, num in enumerate(row):\n",
    "            # Each iteration is one supplier-receiver transaction\n",
    "            unit_profit = unit_profits[idx, jdx]\n",
    "            supp_name, supply, cost = suppliers_cpy[idx]\n",
    "            recv_name, demand, price = receivers_cpy[jdx]\n",
    "            if supply == 0 or demand == 0:\n",
    "                continue\n",
    "            \n",
    "            supply_after = supply - demand\n",
    "            if supply_after >= 0:\n",
    "                # no supply\n",
    "                sales[idx, jdx] = demand\n",
    "                \n",
    "                # Update\n",
    "                suppliers_cpy[idx][supp_idx] = supply_after\n",
    "                receivers_cpy[jdx][rec_idx]  = 0\n",
    "            if supply_after < 0:\n",
    "                # no demand\n",
    "                sales[idx, jdx] = supply\n",
    "                \n",
    "                # Update\n",
    "                suppliers_cpy[idx][supp_idx] = 0\n",
    "                receivers_cpy[jdx][rec_idx]  = -supply_after\n",
    "            \n",
    "    if (sum([supp[supp_idx] for supp in suppliers_cpy]) or\n",
    "        sum([recv[rec_idx] for recv in receivers_cpy])):\n",
    "        raise Exception(\"Supply and Demand after calculations are not zero.\")\n",
    "    return sales, suppliers_cpy, receivers_cpy"
   ]
  },
  {
   "cell_type": "code",
   "execution_count": 9,
   "metadata": {},
   "outputs": [],
   "source": [
    "sales, supp, recv = sales_matrix(unit_profits, suppliers, receivers)"
   ]
  },
  {
   "cell_type": "code",
   "execution_count": 10,
   "metadata": {},
   "outputs": [
    {
     "data": {
      "text/plain": [
       "array([ 5.4,  1.4,  6.6,  2.6, -2.4])"
      ]
     },
     "execution_count": 10,
     "metadata": {},
     "output_type": "execute_result"
    }
   ],
   "source": [
    "mask = sales[:-1, :-1] !=0\n",
    "masked_array = (unit_profits[:-1, :-1] * mask)\n",
    "\n",
    "A = []\n",
    "B = []\n",
    "for i in range(mask.shape[0]):\n",
    "    for j in range(mask.shape[1]):\n",
    "        if mask[i, j]:\n",
    "            row = [0]*(mask.shape[0] + mask.shape[1])\n",
    "            row[i] = 1\n",
    "            row[mask.shape[0] + j] = 1\n",
    "            A.append(row)\n",
    "            B.append(masked_array[i, j])\n",
    "\n",
    "A = np.array(A)\n",
    "B = np.array(B)\n",
    "\n",
    "solution, residuals, rank, s = np.linalg.lstsq(A, B, rcond=None)\n",
    "\n",
    "solution"
   ]
  },
  {
   "cell_type": "code",
   "execution_count": 11,
   "metadata": {},
   "outputs": [],
   "source": [
    "# append 0 for fictional suppliers and receivers\n",
    "alphas = np.append(solution[:2], 0)\n",
    "betas = np.append(solution[2:], 0)"
   ]
  },
  {
   "cell_type": "code",
   "execution_count": 12,
   "metadata": {},
   "outputs": [
    {
     "data": {
      "text/plain": [
       "array([[10.,  0., 10.,  0.],\n",
       "       [ 0., 28.,  2.,  0.],\n",
       "       [ 0.,  0., 15., 50.]])"
      ]
     },
     "execution_count": 12,
     "metadata": {},
     "output_type": "execute_result"
    }
   ],
   "source": [
    "sales"
   ]
  },
  {
   "cell_type": "code",
   "execution_count": 13,
   "metadata": {},
   "outputs": [],
   "source": [
    "def calculate_deltas(unit_profits, alphas, betas):\n",
    "    # Step 5 in algorithm\n",
    "    deltas = np.zeros(unit_profits.shape)\n",
    "    for idx, row in enumerate(unit_profits[:-1][:-1]):\n",
    "        for jdx, unit_profit in enumerate(row):\n",
    "            deltas[idx, jdx] = round(unit_profit - alphas[idx] - betas[jdx], 4)\n",
    "    \n",
    "    return deltas"
   ]
  },
  {
   "cell_type": "code",
   "execution_count": 14,
   "metadata": {},
   "outputs": [],
   "source": [
    "deltas = calculate_deltas(unit_profits, alphas, betas)"
   ]
  },
  {
   "cell_type": "code",
   "execution_count": 15,
   "metadata": {},
   "outputs": [
    {
     "data": {
      "text/plain": [
       "array([[10.,  0., 10.,  0.],\n",
       "       [ 0., 28.,  2.,  0.],\n",
       "       [ 0.,  0., 15., 50.]])"
      ]
     },
     "execution_count": 15,
     "metadata": {},
     "output_type": "execute_result"
    }
   ],
   "source": [
    "sales"
   ]
  },
  {
   "cell_type": "code",
   "execution_count": 16,
   "metadata": {},
   "outputs": [
    {
     "data": {
      "text/plain": [
       "array([[120.,   0.,  30.,   0.],\n",
       "       [  0., 112.,  -2.,   0.],\n",
       "       [  0.,   0.,   0.,   0.]])"
      ]
     },
     "execution_count": 16,
     "metadata": {},
     "output_type": "execute_result"
    }
   ],
   "source": [
    "unit_profits * sales"
   ]
  },
  {
   "cell_type": "code",
   "execution_count": 17,
   "metadata": {},
   "outputs": [],
   "source": [
    "def calculate_overall_return(unit_profits, sales):\n",
    "    return np.sum(unit_profits[:-1, :-1] * sales[:-1, :-1])\n",
    "\n",
    "def calculate_returns(unit_profits, sales):\n",
    "    return unit_profits[:-1, :-1] * sales[:-1, :-1]"
   ]
  },
  {
   "cell_type": "code",
   "execution_count": 18,
   "metadata": {},
   "outputs": [
    {
     "data": {
      "text/plain": [
       "260.0"
      ]
     },
     "execution_count": 18,
     "metadata": {},
     "output_type": "execute_result"
    }
   ],
   "source": [
    "calculate_overall_return(unit_profits, sales)"
   ]
  },
  {
   "cell_type": "code",
   "execution_count": 19,
   "metadata": {},
   "outputs": [
    {
     "data": {
      "text/plain": [
       "array([[120.,   0.,  30.],\n",
       "       [  0., 112.,  -2.]])"
      ]
     },
     "execution_count": 19,
     "metadata": {},
     "output_type": "execute_result"
    }
   ],
   "source": [
    "calculate_returns(unit_profits, sales)"
   ]
  },
  {
   "cell_type": "code",
   "execution_count": 20,
   "metadata": {},
   "outputs": [
    {
     "name": "stdout",
     "output_type": "stream",
     "text": [
      "len A, row A, B: (3, 5, 3)\n"
     ]
    },
    {
     "data": {
      "text/plain": [
       "'Optimal'"
      ]
     },
     "execution_count": 20,
     "metadata": {},
     "output_type": "execute_result"
    }
   ],
   "source": [
    "from util.middleman import MiddleMan\n",
    "import numpy as np\n",
    "mm = MiddleMan()\n",
    "mm.add_supplier('D1', 20, 10)\n",
    "mm.add_supplier('D2', 30, 12)\n",
    "\n",
    "mm.add_receiver('O1', 10, 30)\n",
    "mm.add_receiver('O2', 28, 25)\n",
    "mm.add_receiver('O3', 27, 30)\n",
    "\n",
    "transport_cost_matrix = np.array([\n",
    "    [8, 14, 17],\n",
    "    [12, 9, 19]\n",
    "])\n",
    "\n",
    "mm.add_transport_matrix(transport_cost_matrix)\n",
    "\n",
    "mm.calculate()"
   ]
  },
  {
   "cell_type": "code",
   "execution_count": 21,
   "metadata": {},
   "outputs": [
    {
     "data": {
      "text/plain": [
       "262.0"
      ]
     },
     "execution_count": 21,
     "metadata": {},
     "output_type": "execute_result"
    }
   ],
   "source": [
    "mm.calculate_overall_return()"
   ]
  },
  {
   "cell_type": "code",
   "execution_count": 22,
   "metadata": {},
   "outputs": [
    {
     "data": {
      "text/plain": [
       "array([[10.,  0., 10.,  0.],\n",
       "       [ 0., 28.,  0.,  2.],\n",
       "       [ 0.,  0., 17., 48.]])"
      ]
     },
     "execution_count": 22,
     "metadata": {},
     "output_type": "execute_result"
    }
   ],
   "source": [
    "mm.sales"
   ]
  },
  {
   "cell_type": "code",
   "execution_count": 23,
   "metadata": {},
   "outputs": [
    {
     "name": "stdout",
     "output_type": "stream",
     "text": [
      "len A, row A, B: (3, 5, 3)\n"
     ]
    },
    {
     "data": {
      "text/plain": [
       "(array([5., 2., 0.]), array([ 7.,  2., -2.,  0.]), array([], dtype=float64))"
      ]
     },
     "execution_count": 23,
     "metadata": {},
     "output_type": "execute_result"
    }
   ],
   "source": [
    "mm._calculate_alpha_beta()"
   ]
  },
  {
   "cell_type": "code",
   "execution_count": 24,
   "metadata": {},
   "outputs": [
    {
     "data": {
      "text/plain": [
       "array([[ 0., -6.,  0., -5.],\n",
       "       [-3.,  0., -1., -2.],\n",
       "       [-7., -2.,  2.,  0.]])"
      ]
     },
     "execution_count": 24,
     "metadata": {},
     "output_type": "execute_result"
    }
   ],
   "source": [
    "mm.deltas"
   ]
  },
  {
   "cell_type": "code",
   "execution_count": 25,
   "metadata": {},
   "outputs": [
    {
     "data": {
      "text/plain": [
       "array([[120.,   0.,  30.],\n",
       "       [  0., 112.,  -0.]])"
      ]
     },
     "execution_count": 25,
     "metadata": {},
     "output_type": "execute_result"
    }
   ],
   "source": [
    "mm.calculate_returns()"
   ]
  },
  {
   "cell_type": "code",
   "execution_count": 26,
   "metadata": {},
   "outputs": [],
   "source": [
    "import numpy as np\n",
    "\n",
    "class MiddleMan:\n",
    "    \"\"\"\n",
    "    # Example usage\n",
    "    >>> mm = MiddleMan()\n",
    "    >>> mm.add_supplier('D1', 20, 10)\n",
    "    >>> mm.add_supplier('D2', 30, 12)\n",
    "\n",
    "    >>> mm.add_receiver('O1', 10, 30)\n",
    "    >>> mm.add_receiver('O2', 28, 25)\n",
    "    >>> mm.add_receiver('O3', 27, 30)\n",
    "\n",
    "    >>> transport_cost_matrix = np.array([\n",
    "    >>>     [8, 14, 17],\n",
    "    >>>     [12, 9, 19]\n",
    "    >>> ])\n",
    "\n",
    "    >>> mm.add_transport_matrix(transport_cost_matrix)\n",
    "\n",
    "    >>> mm.calculate()\n",
    "    'Optimal'\n",
    "    >>> mm.calculate_overall_return()\n",
    "    260.0\n",
    "    >>> mm.calculate_returns()\n",
    "    array([[120.,   0.,  30.],\n",
    "           [  0., 112.,  -2.]])\n",
    "    \"\"\"\n",
    "    def __init__(self, supp_idx=1, rec_idx=1):\n",
    "        self.supp_idx = supp_idx\n",
    "        self.rec_idx = rec_idx\n",
    "        self.suppliers = []\n",
    "        self.receivers = []\n",
    "    \n",
    "    def calculate(self):\n",
    "        self.unit_profits = self.unit_profits_matrix()\n",
    "        self.indices = self.calc_sorted_indices()\n",
    "        \n",
    "        supp_sum, dmnd_sum = self.supply_demand_sum()\n",
    "        \n",
    "        if supp_sum != dmnd_sum:\n",
    "            print(\"Supply != Demand\")\n",
    "            self.unit_profits = np.pad(self.unit_profits, ((0, 1), (0, 1)), 'constant', constant_values=0)\n",
    "            self.transport_cost_matrix = np.pad(self.transport_cost_matrix, ((0, 1), (0, 1)), 'constant', constant_values=0)\n",
    "            self.suppliers.append(('DF', dmnd_sum, 0))\n",
    "            self.receivers.append(('OF', supp_sum, 0))\n",
    "        \n",
    "        self.sales, supp, recv = self.sales_matrix()\n",
    "        alphas, betas = self._calculate_alpha_beta()\n",
    "        self.deltas = self.calculate_deltas(alphas, betas)\n",
    "        \n",
    "        if np.any(self.deltas[:-1, :-1] > 0):\n",
    "            return \"Suboptimal\"\n",
    "        else:\n",
    "            return \"Optimal\"\n",
    "        \n",
    "    def add_supplier(self, name, supply, cost):\n",
    "        self.suppliers.append((name, supply, cost))\n",
    "        \n",
    "    def add_receiver(self, name, demand, price):\n",
    "        self.receivers.append((name, demand, price))\n",
    "        \n",
    "    def add_transport_matrix(self, matrix:np.ndarray):\n",
    "        self.transport_cost_matrix = matrix\n",
    "        \n",
    "    def unit_profits_matrix(self):\n",
    "        un_pr_matrix = np.empty_like(self.transport_cost_matrix)\n",
    "        # Suppliers\n",
    "        for i, row in enumerate(self.transport_cost_matrix):\n",
    "            # Receivers\n",
    "            for j, num in enumerate(row):\n",
    "                \n",
    "                un_pr_matrix[i, j] = self.receivers[j][2] - self.suppliers[i][2] - self.transport_cost_matrix[i, j]\n",
    "        \n",
    "        return un_pr_matrix\n",
    "\n",
    "    def supply_demand_sum(self):\n",
    "        supp_sum = sum([supp[self.supp_idx] for supp in self.suppliers])\n",
    "        dmnd_sum = sum([recv[self.rec_idx] for recv in self.receivers])\n",
    "        return supp_sum, dmnd_sum\n",
    "    \n",
    "    def calc_sorted_indices(self):\n",
    "        self.indices = np.argsort(self.unit_profits, axis=None)[::-1]\n",
    "        self.indices = np.unravel_index(self.indices, self.unit_profits.shape)\n",
    "        return self.indices\n",
    "    \n",
    "    def sales_matrix(self):\n",
    "        suppliers_cpy = [list(tup) for tup in self.suppliers]\n",
    "        receivers_cpy = [list(tup) for tup in self.receivers]\n",
    "        # We start from REAL Suppliers and Receivers:\n",
    "        sales = np.zeros(self.unit_profits.shape)\n",
    "        for idx, jdx in zip(*self.indices):\n",
    "            # Each iteration is one supplier-receiver transaction\n",
    "            unit_profit = self.unit_profits[idx, jdx]\n",
    "            supp_name, supply, cost = suppliers_cpy[idx]\n",
    "            recv_name, demand, price = receivers_cpy[jdx]\n",
    "            \n",
    "            # unit_profit < 0 -> middleman loses on this transaction.\n",
    "            if supply == 0 or demand == 0 or unit_profit < 0:\n",
    "                continue\n",
    "            \n",
    "            supply_after = supply - demand\n",
    "            if supply_after >= 0:\n",
    "                # no supply\n",
    "                sales[idx, jdx] = demand\n",
    "                \n",
    "                # Update\n",
    "                suppliers_cpy[idx][self.supp_idx] = supply_after\n",
    "                receivers_cpy[jdx][self.rec_idx]  = 0\n",
    "            if supply_after < 0:\n",
    "                # no demand\n",
    "                sales[idx, jdx] = supply\n",
    "                \n",
    "                # Update\n",
    "                suppliers_cpy[idx][self.supp_idx] = 0\n",
    "                receivers_cpy[jdx][self.rec_idx]  = -supply_after\n",
    "        \n",
    "        # We go to FICTIONAL Suppliers and Receivers\n",
    "        for idx, row in enumerate(sales):\n",
    "            for jdx, num in enumerate(row):\n",
    "                # Each iteration is one supplier-receiver transaction\n",
    "                unit_profit = self.unit_profits[idx, jdx]\n",
    "                supp_name, supply, cost = suppliers_cpy[idx]\n",
    "                recv_name, demand, price = receivers_cpy[jdx]\n",
    "                if supply == 0 or demand == 0 or unit_profit < 0:\n",
    "                    continue\n",
    "                \n",
    "                supply_after = supply - demand\n",
    "                if supply_after >= 0:\n",
    "                    # no supply\n",
    "                    sales[idx, jdx] = demand\n",
    "                    \n",
    "                    # Update\n",
    "                    suppliers_cpy[idx][self.supp_idx] = supply_after\n",
    "                    receivers_cpy[jdx][self.rec_idx]  = 0\n",
    "                if supply_after < 0:\n",
    "                    # no demand\n",
    "                    sales[idx, jdx] = supply\n",
    "                    \n",
    "                    # Update\n",
    "                    suppliers_cpy[idx][self.supp_idx] = 0\n",
    "                    receivers_cpy[jdx][self.rec_idx]  = -supply_after\n",
    "                \n",
    "        if (sum([supp[self.supp_idx] for supp in suppliers_cpy]) or\n",
    "            sum([recv[self.rec_idx] for recv in receivers_cpy])):\n",
    "            raise Exception(\"Supply and Demand after calculations are not zero.\")\n",
    "        return sales, suppliers_cpy, receivers_cpy\n",
    "    \n",
    "    def _calculate_alpha_beta(self):\n",
    "        mask = self.sales[:-1, :-1] !=0\n",
    "        masked_array = (self.unit_profits[:-1, :-1] * mask)\n",
    "        \n",
    "        A = []\n",
    "        B = []\n",
    "        for i in range(mask.shape[0]):\n",
    "            for j in range(mask.shape[1]):\n",
    "                if mask[i, j]:\n",
    "                    row = [0]*(mask.shape[0] + mask.shape[1])\n",
    "                    row[i] = 1\n",
    "                    row[mask.shape[0] + j] = 1\n",
    "                    A.append(row)\n",
    "                    B.append(masked_array[i, j])\n",
    "\n",
    "        A = np.array(A)\n",
    "        B = np.array(B)\n",
    "        \n",
    "        solution, residuals, rank, s = np.linalg.lstsq(A, B, rcond=None)\n",
    "\n",
    "        alphas = np.append(solution[:2], 0)\n",
    "        betas = np.append(solution[2:], 0)\n",
    "        \n",
    "        return alphas, betas\n",
    "    \n",
    "    def calculate_deltas(self, alphas, betas):\n",
    "        # Step 5 in algorithm\n",
    "        deltas = np.zeros(self.unit_profits.shape)\n",
    "        for idx, row in enumerate(self.unit_profits[:-1][:-1]):\n",
    "            for jdx, unit_profit in enumerate(row):\n",
    "                deltas[idx, jdx] = round(unit_profit - alphas[idx] - betas[jdx], 4)\n",
    "        \n",
    "        return deltas\n",
    "    \n",
    "    def calculate_overall_return(self):\n",
    "        return np.sum(self.unit_profits[:-1, :-1] * self.sales[:-1, :-1])\n",
    "\n",
    "    def calculate_returns(self):\n",
    "        return self.unit_profits[:-1, :-1] * self.sales[:-1, :-1]"
   ]
  },
  {
   "cell_type": "code",
   "execution_count": 1,
   "metadata": {},
   "outputs": [
    {
     "data": {
      "text/plain": [
       "'Optimal'"
      ]
     },
     "execution_count": 1,
     "metadata": {},
     "output_type": "execute_result"
    }
   ],
   "source": [
    "import numpy as np\n",
    "from util.middleman import MiddleMan\n",
    "\n",
    "mm = MiddleMan()\n",
    "mm.add_supplier('D1', 20, 17)\n",
    "mm.add_supplier('D2', 40, 7)\n",
    "\n",
    "mm.add_receiver('O1', 10, 18)\n",
    "mm.add_receiver('O2', 12, 16)\n",
    "mm.add_receiver('O3', 24, 15)\n",
    "\n",
    "transport_cost_matrix = np.array([\n",
    "    [4, 7, 2],\n",
    "    [8, 10, 4]\n",
    "])\n",
    "\n",
    "mm.add_transport_matrix(transport_cost_matrix)\n",
    "\n",
    "mm.calculate()"
   ]
  },
  {
   "cell_type": "code",
   "execution_count": 28,
   "metadata": {},
   "outputs": [
    {
     "data": {
      "text/plain": [
       "array([[-3, -8, -4,  0],\n",
       "       [ 3, -1,  4,  0],\n",
       "       [ 0,  0,  0,  0]])"
      ]
     },
     "execution_count": 28,
     "metadata": {},
     "output_type": "execute_result"
    }
   ],
   "source": [
    "mm.unit_profits"
   ]
  },
  {
   "cell_type": "code",
   "execution_count": 29,
   "metadata": {},
   "outputs": [
    {
     "name": "stdout",
     "output_type": "stream",
     "text": [
      "len A, row A, B: (2, 5, 2)\n"
     ]
    },
    {
     "data": {
      "text/plain": [
       "(array([0.     , 2.33333, 0.     ]),\n",
       " array([0.66667, 0.     , 1.66667, 0.     ]),\n",
       " array([], dtype=float64))"
      ]
     },
     "execution_count": 29,
     "metadata": {},
     "output_type": "execute_result"
    }
   ],
   "source": [
    "mm._calculate_alpha_beta()"
   ]
  },
  {
   "cell_type": "code",
   "execution_count": 30,
   "metadata": {},
   "outputs": [
    {
     "data": {
      "text/plain": [
       "array([[-3.66667, -8.     , -5.66667,  0.     ],\n",
       "       [-0.     , -3.33333, -0.     , -2.33333],\n",
       "       [-0.66667,  0.     , -1.66667,  0.     ]])"
      ]
     },
     "execution_count": 30,
     "metadata": {},
     "output_type": "execute_result"
    }
   ],
   "source": [
    "mm.deltas"
   ]
  },
  {
   "cell_type": "code",
   "execution_count": 31,
   "metadata": {},
   "outputs": [
    {
     "data": {
      "text/plain": [
       "array([[-3.66667, -8.     , -5.66667],\n",
       "       [-0.     , -3.33333, -0.     ]])"
      ]
     },
     "execution_count": 31,
     "metadata": {},
     "output_type": "execute_result"
    }
   ],
   "source": [
    "mm.deltas[:-1, :-1]"
   ]
  },
  {
   "cell_type": "code",
   "execution_count": 32,
   "metadata": {},
   "outputs": [
    {
     "data": {
      "text/plain": [
       "array([[ 0.,  0.,  0., 20.],\n",
       "       [10.,  0., 24.,  6.],\n",
       "       [ 0., 12.,  0., 34.]])"
      ]
     },
     "execution_count": 32,
     "metadata": {},
     "output_type": "execute_result"
    }
   ],
   "source": [
    "mm.sales"
   ]
  },
  {
   "cell_type": "code",
   "execution_count": 33,
   "metadata": {},
   "outputs": [
    {
     "data": {
      "text/plain": [
       "array([[-0., -0., -0.],\n",
       "       [30., -0., 96.]])"
      ]
     },
     "execution_count": 33,
     "metadata": {},
     "output_type": "execute_result"
    }
   ],
   "source": [
    "mm.calculate_returns()"
   ]
  },
  {
   "cell_type": "code",
   "execution_count": 34,
   "metadata": {},
   "outputs": [
    {
     "data": {
      "text/plain": [
       "126.0"
      ]
     },
     "execution_count": 34,
     "metadata": {},
     "output_type": "execute_result"
    }
   ],
   "source": [
    "mm.calculate_overall_return()"
   ]
  },
  {
   "cell_type": "code",
   "execution_count": 35,
   "metadata": {},
   "outputs": [
    {
     "data": {
      "text/plain": [
       "array([[ True,  True,  True, False],\n",
       "       [False,  True, False, False],\n",
       "       [ True, False,  True, False]])"
      ]
     },
     "execution_count": 35,
     "metadata": {},
     "output_type": "execute_result"
    }
   ],
   "source": [
    "mm.sales==0"
   ]
  },
  {
   "cell_type": "markdown",
   "metadata": {},
   "source": [
    "# Przykładowe zadania"
   ]
  },
  {
   "cell_type": "code",
   "execution_count": 137,
   "metadata": {},
   "outputs": [
    {
     "name": "stdout",
     "output_type": "stream",
     "text": [
      "[['D1', 45, 6], ['D2', 25, 7], ['DF', 60, 0]]\n",
      "[['O1', 30, 12], ['O2', 30, 13], ['OF', 70, 0]]\n"
     ]
    },
    {
     "data": {
      "text/plain": [
       "'Optimal'"
      ]
     },
     "execution_count": 137,
     "metadata": {},
     "output_type": "execute_result"
    }
   ],
   "source": [
    "import numpy as np\n",
    "# from util.middleman import MiddleMan\n",
    "\n",
    "mm = MiddleMan()\n",
    "mm.add_supplier('D1', 45, 6)\n",
    "mm.add_supplier('D2', 25, 7)\n",
    "\n",
    "mm.add_receiver('O1', 30, 12)\n",
    "mm.add_receiver('O2', 30, 13)\n",
    "\n",
    "transport_cost_matrix = np.array([\n",
    "    [7, 4],\n",
    "    [3, 5]\n",
    "])\n",
    "\n",
    "mm.add_transport_matrix(transport_cost_matrix)\n",
    "\n",
    "mm.calculate()"
   ]
  },
  {
   "cell_type": "code",
   "execution_count": 138,
   "metadata": {},
   "outputs": [
    {
     "data": {
      "text/plain": [
       "array([[-1,  3,  0],\n",
       "       [ 2,  1,  0],\n",
       "       [ 0,  0,  0]])"
      ]
     },
     "execution_count": 138,
     "metadata": {},
     "output_type": "execute_result"
    }
   ],
   "source": [
    "mm.unit_profits"
   ]
  },
  {
   "cell_type": "code",
   "execution_count": 139,
   "metadata": {},
   "outputs": [
    {
     "name": "stdout",
     "output_type": "stream",
     "text": [
      "[[-5. 90.]\n",
      " [50.  0.]]\n",
      "\n",
      "Overall return:\n",
      "\n",
      "135.0\n"
     ]
    }
   ],
   "source": [
    "print(mm.calculate_returns())\n",
    "print(\"\\nOverall return:\\n\")\n",
    "print(mm.calculate_overall_return())"
   ]
  },
  {
   "cell_type": "code",
   "execution_count": 134,
   "metadata": {},
   "outputs": [
    {
     "name": "stdout",
     "output_type": "stream",
     "text": [
      "[['D1', 20, 7], ['D2', 40, 8], ['DF', 52, 0]]\n",
      "[['O1', 16, 18], ['O2', 12, 16], ['O3', 24, 15], ['OF', 60, 0]]\n",
      "[(0, 1), (0, 0), (1, 0), (1, 1)]\n",
      "[[16.  0.  4.  0.]\n",
      " [ 0. 12. 20.  8.]\n",
      " [ 0.  0.  0. 52.]]\n",
      "[16.0, 12.0]\n"
     ]
    },
    {
     "data": {
      "text/plain": [
       "'Optimal'"
      ]
     },
     "execution_count": 134,
     "metadata": {},
     "output_type": "execute_result"
    }
   ],
   "source": [
    "mm = MiddleMan()\n",
    "mm.add_supplier('D1', 20, 7)\n",
    "mm.add_supplier('D2', 40, 8)\n",
    "\n",
    "mm.add_receiver('O1', 16, 18)\n",
    "mm.add_receiver('O2', 12, 16)\n",
    "mm.add_receiver('O3', 24, 15)\n",
    "\n",
    "transport_cost_matrix = np.array([\n",
    "    [4, 7, 2],\n",
    "    [8, 10, 4]\n",
    "])\n",
    "\n",
    "mm.add_transport_matrix(transport_cost_matrix)\n",
    "\n",
    "mm.calculate()"
   ]
  },
  {
   "cell_type": "code",
   "execution_count": 135,
   "metadata": {},
   "outputs": [
    {
     "data": {
      "text/plain": [
       "array([[ 7,  2,  6,  0],\n",
       "       [ 2, -2,  3,  0],\n",
       "       [ 0,  0,  0,  0]])"
      ]
     },
     "execution_count": 135,
     "metadata": {},
     "output_type": "execute_result"
    }
   ],
   "source": [
    "mm.unit_profits"
   ]
  },
  {
   "cell_type": "code",
   "execution_count": 136,
   "metadata": {},
   "outputs": [
    {
     "name": "stdout",
     "output_type": "stream",
     "text": [
      "[[28. 24. 24.]\n",
      " [24. -0. 60.]]\n",
      "\n",
      "Overall return:\n",
      "\n",
      "160.0\n"
     ]
    }
   ],
   "source": [
    "print(mm.calculate_returns())\n",
    "print(\"\\nOverall return:\\n\")\n",
    "print(mm.calculate_overall_return())"
   ]
  },
  {
   "cell_type": "markdown",
   "metadata": {},
   "source": [
    "# WORKING\n",
    "#TODO: adding/removing suppliers/receivers and class calculating with no problem"
   ]
  },
  {
   "cell_type": "code",
   "execution_count": 399,
   "metadata": {},
   "outputs": [],
   "source": [
    "class MiddleMan:\n",
    "    def __init__(self, supp_idx=1, rec_idx=1, verbose=False):\n",
    "        self.supp_idx = supp_idx\n",
    "        self.rec_idx = rec_idx\n",
    "        self.suppliers = []\n",
    "        self.receivers = []\n",
    "        self.verbose = verbose\n",
    "        \n",
    "    def __call__(self):\n",
    "        return self.calculate()\n",
    "    \n",
    "    def calculate(self):\n",
    "        \"\"\"\n",
    "        The most important function but I'm to lazy to describe it now, but it's rather obvious\n",
    "        \"\"\"\n",
    "        if not hasattr(self, 'fictional'):\n",
    "            self.unit_profits = self.unit_profits_matrix()\n",
    "        self.indices = self.calc_sorted_indices()\n",
    "        \n",
    "        supp_sum, dmnd_sum = self.supply_demand_sum()\n",
    "        \n",
    "        if supp_sum != dmnd_sum:\n",
    "            self.fictional = True\n",
    "            self.unit_profits = np.pad(self.unit_profits, ((0, 1), (0, 1)), 'constant', constant_values=0)\n",
    "            self.transport_cost_matrix = np.pad(self.transport_cost_matrix, ((0, 1), (0, 1)), 'constant', constant_values=0)\n",
    "            self.suppliers.append(('DF', dmnd_sum, 0))\n",
    "            self.receivers.append(('OF', supp_sum, 0))\n",
    "        \n",
    "        self.sales, supp, recv = self.sales_matrix()\n",
    "        alphas, betas, residuals = self._calculate_alpha_beta()\n",
    "        \n",
    "        self.deltas = self.calculate_deltas(alphas, betas)\n",
    "        iterator = 0\n",
    "        while np.any(self.deltas > 0):\n",
    "            if iterator == 1000:\n",
    "                raise Exception(\"Infinite loop\")\n",
    "            iterator +=1\n",
    "            # max_delta_idx = np.unravel_index(np.argmax(self.deltas[:-1, :-1]), self.deltas[:-1, :-1].shape)\n",
    "            max_delta_idxs = self.calc_sorted_indices(self.deltas[:-1, :-1], inplace=False)\n",
    "            \n",
    "            for max_delta_idx in zip(*max_delta_idxs):\n",
    "                if self.verbose:\n",
    "                    print(f\"STARTING AT {self.deltas[max_delta_idx]} delta value at {max_delta_idx}\")\n",
    "                if self.deltas[max_delta_idx] <=0:\n",
    "                    break\n",
    "                \n",
    "                path = self._find_path(max_delta_idx) # max_delta_idx\n",
    "                \n",
    "                if path is not None:\n",
    "                    self._update_sales_matrix(path)\n",
    "                    break\n",
    "                else:\n",
    "                    if self.verbose:\n",
    "                        print(f\"PATH IS NONE FOR {self.deltas[max_delta_idx]} delta value\") # max_delta_idx\n",
    "                    continue                \n",
    "                \n",
    "            # if path is None:\n",
    "            #     self.deltas[max_delta_idx] = -np.inf  # Mark as invalid\n",
    "            #     continue\n",
    "            \n",
    "            # self._update_sales_matrix(path)\n",
    "            if self.verbose:\n",
    "                print(\"path:\")\n",
    "                print(path)\n",
    "                print(\"deltas:\")\n",
    "                print(self.deltas)\n",
    "            # print([mm.sales[idx] for idx in path if mm.sales[idx] > 0])\n",
    "            \n",
    "            alphas, betas, residuals = self._calculate_alpha_beta()\n",
    "            self.deltas = self.calculate_deltas(alphas, betas)\n",
    "            if self.verbose:\n",
    "                print(\"new calculated deltas:\")\n",
    "                print(self.deltas)\n",
    "        \n",
    "        if self.verbose:\n",
    "            print(iterator)\n",
    "        \n",
    "        if np.any(self.deltas[:-1, :-1] > 0):\n",
    "            return \"Suboptimal\"\n",
    "        else:\n",
    "            return \"Optimal\"\n",
    "\n",
    "    def _find_path(self, start_idx):\n",
    "        \"\"\"\n",
    "        Responsible for finding a path in a deltas matrix e.g.:\n",
    "        \n",
    "        ```\n",
    "        1--2\n",
    "        |  |\n",
    "        4--3\n",
    "        ```\n",
    "        \n",
    "        Returns a path in order: `[1, 2, 3, 4]`\n",
    "        \n",
    "        1 is a starting point with delta > 0;  2, 3 and 4 have delta==0.\n",
    "        \"\"\"\n",
    "        rows, cols = self.sales.shape\n",
    "        start_row, start_col = start_idx\n",
    "        \n",
    "        for row in range(rows):\n",
    "            if row != start_row:\n",
    "                for col in range(cols):\n",
    "                    if (col != start_col and row != start_row and \n",
    "                        self.sales[start_row, start_col] == 0 and self.sales[row, col] > 0 and\n",
    "                        self.sales[start_row, col] > 0 and self.sales[row, start_col] > 0):\n",
    "                        \n",
    "                        return [(start_row, start_col), (start_row, col), (row, col), (row, start_col)]\n",
    "        \n",
    "        return None\n",
    "\n",
    "    def _update_sales_matrix(self, path):\n",
    "        \"\"\"\n",
    "        Changes the sales matrix with given path - a list of tuples - positions.\n",
    "        \n",
    "        Takes the minimum of second and third element of path (corners of path):\n",
    "        \n",
    "        e.g.:\n",
    "        \n",
    "        ```\n",
    "        1--2\n",
    "        |  |\n",
    "        4--3\n",
    "        ```\n",
    "        \"\"\"\n",
    "        min_sales_value = min(self.sales[path[1]], self.sales[path[3]])\n",
    "        # min_sales_value = min(self.sales[idx] for idx in path if self.sales[idx] > 0)\n",
    "\n",
    "        for i, idx in enumerate(path):\n",
    "            if i % 2 == 0:\n",
    "                self.sales[idx] += min_sales_value\n",
    "            else:\n",
    "                self.sales[idx] -= min_sales_value\n",
    "\n",
    "    \n",
    "    def add_supplier(self, name, supply, cost):\n",
    "        self.suppliers.append((name, supply, cost))\n",
    "        \n",
    "    def add_receiver(self, name, demand, price):\n",
    "        self.receivers.append((name, demand, price))\n",
    "        \n",
    "    def add_transport_matrix(self, matrix:np.ndarray):\n",
    "        self.transport_cost_matrix = matrix\n",
    "        \n",
    "    def unit_profits_matrix(self):\n",
    "        \"\"\"\n",
    "        Calculates unit profits from suppliers and receivers\n",
    "        \"\"\"\n",
    "        un_pr_matrix = np.empty_like(self.transport_cost_matrix)\n",
    "        # Suppliers\n",
    "        for i, row in enumerate(self.transport_cost_matrix):\n",
    "            # Receivers\n",
    "            for j, num in enumerate(row):\n",
    "                un_pr_matrix[i, j] = self.receivers[j][2] - self.suppliers[i][2] - self.transport_cost_matrix[i, j]\n",
    "        \n",
    "        return un_pr_matrix\n",
    "\n",
    "    def supply_demand_sum(self):\n",
    "        supp_sum = sum([supp[self.supp_idx] for supp in self.suppliers])\n",
    "        dmnd_sum = sum([recv[self.rec_idx] for recv in self.receivers])\n",
    "        return supp_sum, dmnd_sum\n",
    "    \n",
    "    def calc_sorted_indices(self, matrix=None, inplace=True):\n",
    "        \"\"\"\n",
    "        Sorts elements and returns their position in array.\n",
    "        \"\"\"\n",
    "        if matrix is None:\n",
    "            if hasattr(self, 'fictional'):\n",
    "                matrix = self.unit_profits[:-1, :-1]\n",
    "            else:\n",
    "                matrix = self.unit_profits\n",
    "                \n",
    "        \n",
    "        indices = np.argsort(matrix, axis=None)[::-1]\n",
    "        indices = np.unravel_index(indices, matrix.shape)\n",
    "        \n",
    "        if inplace:\n",
    "            self.indices = indices\n",
    "        \n",
    "        return indices\n",
    "    \n",
    "    def sales_matrix(self):\n",
    "        \"\"\"\n",
    "        Function for calculating the initial sales matrix.\n",
    "        \n",
    "        Staring from real suppliers and receivers:\n",
    "        - iterating through matrix from highest to lowest unit incomes\n",
    "        - assigning to each matrix a highest sale according to a supply / demand\n",
    "        \n",
    "        \n",
    "        \"\"\"\n",
    "        suppliers_cpy = [list(tup) for tup in self.suppliers]\n",
    "        receivers_cpy = [list(tup) for tup in self.receivers]\n",
    "        \n",
    "        # We start from REAL Suppliers and Receivers:\n",
    "        sales = np.zeros(self.unit_profits.shape)\n",
    "        for idx, jdx in zip(*self.indices):\n",
    "            # Each iteration is one supplier-receiver transaction\n",
    "            unit_profit = self.unit_profits[idx, jdx]\n",
    "            supp_name, supply, cost = suppliers_cpy[idx]\n",
    "            recv_name, demand, price = receivers_cpy[jdx]\n",
    "            \n",
    "            # unit_profit < 0 -> middleman loses on this transaction.\n",
    "            if supply == 0 or demand == 0: #or unit_profit < 0:\n",
    "                continue\n",
    "            \n",
    "            supply_after = supply - demand\n",
    "            if supply_after >= 0:\n",
    "                # no supply\n",
    "                sales[idx, jdx] = demand\n",
    "                \n",
    "                # Update\n",
    "                suppliers_cpy[idx][self.supp_idx] = supply_after\n",
    "                receivers_cpy[jdx][self.rec_idx]  = 0\n",
    "            if supply_after < 0:\n",
    "                # no demand\n",
    "                sales[idx, jdx] = supply\n",
    "                \n",
    "                # Update\n",
    "                suppliers_cpy[idx][self.supp_idx] = 0\n",
    "                receivers_cpy[jdx][self.rec_idx]  = -supply_after\n",
    "        \n",
    "        if hasattr(self, 'fictional'):\n",
    "            # We go to FICTIONAL Suppliers and Receivers\n",
    "            for idx, row in enumerate(sales):\n",
    "                for jdx, num in enumerate(row):\n",
    "                    # Each iteration is one supplier-receiver transaction\n",
    "                    unit_profit = self.unit_profits[idx, jdx]\n",
    "                    supp_name, supply, cost = suppliers_cpy[idx]\n",
    "                    recv_name, demand, price = receivers_cpy[jdx]\n",
    "                    if supply == 0 or demand == 0: #or unit_profit < 0:\n",
    "                        continue\n",
    "                    \n",
    "                    supply_after = supply - demand\n",
    "                    if supply_after >= 0:\n",
    "                        # no supply\n",
    "                        sales[idx, jdx] = demand\n",
    "                        \n",
    "                        # Update\n",
    "                        suppliers_cpy[idx][self.supp_idx] = supply_after\n",
    "                        receivers_cpy[jdx][self.rec_idx]  = 0\n",
    "                    if supply_after < 0:\n",
    "                        # no demand\n",
    "                        sales[idx, jdx] = supply\n",
    "                        \n",
    "                        # Update\n",
    "                        suppliers_cpy[idx][self.supp_idx] = 0\n",
    "                        receivers_cpy[jdx][self.rec_idx]  = -supply_after\n",
    "                \n",
    "        if (sum([supp[self.supp_idx] for supp in suppliers_cpy]) or\n",
    "            sum([recv[self.rec_idx] for recv in receivers_cpy])):\n",
    "            raise Exception(\"Supply and Demand after calculations are not zero.\")\n",
    "        return sales, suppliers_cpy, receivers_cpy\n",
    "    \n",
    "    def _calculate_alpha_beta(self):\n",
    "        \"\"\"\n",
    "        Function that calculates alpha and beta coefficients by using a system of equations.\n",
    "        \n",
    "        Takes non-zero `sales` array elements and creates for them the alpha_i and beta_j equations.\n",
    "        \"\"\"\n",
    "        mask = self.sales != 0\n",
    "        masked_array = (self.unit_profits * mask)\n",
    "        \n",
    "        if self.verbose:\n",
    "            print(\"sales:\")\n",
    "            print(self.sales)\n",
    "            print(\"unit_profits on mask:\")\n",
    "            print(masked_array)\n",
    "        \n",
    "        A = []\n",
    "        B = []\n",
    "        for i in range(mask.shape[0]):\n",
    "            for j in range(mask.shape[1]):\n",
    "                if mask[i, j]:\n",
    "                    row = [0]*(mask.shape[0] + mask.shape[1])\n",
    "                    row[i] = 1\n",
    "                    row[mask.shape[0] + j] = 1\n",
    "                    A.append(row)\n",
    "                    B.append(masked_array[i, j])\n",
    "    \n",
    "        num_variables = mask.shape[0] + mask.shape[1]\n",
    "        num_equations = len(A)\n",
    "    \n",
    "        # If there are more variables than equations, add equations to make first variables equal to zero\n",
    "        if num_variables > num_equations:\n",
    "            for i in range(num_variables - num_equations):\n",
    "                row = [0]*num_variables\n",
    "                row[i] = 1\n",
    "                A.append(row)\n",
    "                B.append(0)\n",
    "        else:\n",
    "            if self.verbose:\n",
    "                print(\"NO ADDITIONAL VARIABLE\")\n",
    "        \n",
    "        # Alternatively we can set alpha 0 to be equal to 0\n",
    "        # row = [0]*num_variables\n",
    "        # row[i] = 1\n",
    "        # A.append(row)\n",
    "        # B.append(0)\n",
    "                \n",
    "        A = np.array(A)\n",
    "        B = np.array(B)\n",
    "    \n",
    "        solution, residuals, rank, s = np.linalg.lstsq(A, B, rcond=None)\n",
    "        if len(residuals)!=0:\n",
    "            raise Exception(f\"System of equations has found solution with residuals = {residuals}\")\n",
    "        \n",
    "        alphas = solution[:mask.shape[0]].round(5)#, 0)\n",
    "        betas = solution[mask.shape[0]:].round(5)#, 0)\n",
    "    \n",
    "        return alphas, betas, residuals\n",
    "    \n",
    "    def calculate_deltas(self, alphas, betas):\n",
    "        \"\"\"\n",
    "        Creates a matrix of deltas - a determinant of optimum. If any element is positive, \n",
    "        than the result is not optimal.\n",
    "        \n",
    "        Each element equation is like so: delta_i_j = z_i_j - alpha_i - beta_j\n",
    "        \n",
    "        where z_i_j is a unit profit on the transit and alpha and beta are according \n",
    "        coefficients calculated earlier.\n",
    "        \"\"\"\n",
    "        # Step 5 in algorithm\n",
    "        \n",
    "        deltas = np.zeros(self.unit_profits.shape)\n",
    "        for idx, row in enumerate(self.unit_profits):\n",
    "            for jdx, unit_profit in enumerate(row):\n",
    "                deltas[idx, jdx] = round(unit_profit - alphas[idx] - betas[jdx], 5)\n",
    "        \n",
    "        return deltas\n",
    "    \n",
    "    def calculate_overall_return(self):\n",
    "        return np.sum(self.unit_profits[:-1, :-1] * self.sales[:-1, :-1])\n",
    "\n",
    "    def calculate_returns(self):\n",
    "        return self.unit_profits[:-1, :-1] * self.sales[:-1, :-1]"
   ]
  },
  {
   "cell_type": "code",
   "execution_count": 400,
   "metadata": {},
   "outputs": [
    {
     "data": {
      "text/plain": [
       "'Optimal'"
      ]
     },
     "execution_count": 400,
     "metadata": {},
     "output_type": "execute_result"
    }
   ],
   "source": [
    "import numpy as np\n",
    "# from util.middleman import MiddleMan\n",
    "\n",
    "mm = MiddleMan()\n",
    "mm.add_supplier('D1', 20, 10)\n",
    "mm.add_supplier('D2', 30, 12)\n",
    "mm.add_supplier('D3', 55, 14)\n",
    "\n",
    "mm.add_receiver('O1', 28, 30)\n",
    "mm.add_receiver('O2', 37, 30)\n",
    "mm.add_receiver('O3', 45, 25)\n",
    "\n",
    "transport_cost_matrix = np.array([\n",
    "    [17, 15, 6],\n",
    "    [7, 7, 1],\n",
    "    [15, 14, 3]\n",
    "])\n",
    "\n",
    "mm.add_transport_matrix(transport_cost_matrix)\n",
    "\n",
    "mm.calculate()"
   ]
  },
  {
   "cell_type": "code",
   "execution_count": 401,
   "metadata": {},
   "outputs": [
    {
     "data": {
      "text/plain": [
       "array([[ -2.,   0.,  -2.,  -5.],\n",
       "       [  0.,   0.,  -5., -11.],\n",
       "       [ -1.,   0.,   0.,  -2.],\n",
       "       [  0.,   0.,  -6.,   0.]])"
      ]
     },
     "execution_count": 401,
     "metadata": {},
     "output_type": "execute_result"
    }
   ],
   "source": [
    "mm.deltas"
   ]
  },
  {
   "cell_type": "code",
   "execution_count": 402,
   "metadata": {},
   "outputs": [
    {
     "data": {
      "text/plain": [
       "'Optimal'"
      ]
     },
     "execution_count": 402,
     "metadata": {},
     "output_type": "execute_result"
    }
   ],
   "source": [
    "mm.calculate()"
   ]
  },
  {
   "cell_type": "code",
   "execution_count": 403,
   "metadata": {},
   "outputs": [
    {
     "data": {
      "text/plain": [
       "'Optimal'"
      ]
     },
     "execution_count": 403,
     "metadata": {},
     "output_type": "execute_result"
    }
   ],
   "source": [
    "mm()"
   ]
  },
  {
   "cell_type": "code",
   "execution_count": 404,
   "metadata": {},
   "outputs": [
    {
     "data": {
      "text/plain": [
       "(array([ 0.,  6., -3., -5.]),\n",
       " array([ 5.,  5., 11.,  5.]),\n",
       " array([], dtype=float64))"
      ]
     },
     "execution_count": 404,
     "metadata": {},
     "output_type": "execute_result"
    }
   ],
   "source": [
    "mm._calculate_alpha_beta()"
   ]
  },
  {
   "cell_type": "code",
   "execution_count": 405,
   "metadata": {},
   "outputs": [
    {
     "data": {
      "text/plain": [
       "array([[ -2.,   0.,  -2.,  -5.],\n",
       "       [  0.,   0.,  -5., -11.],\n",
       "       [ -1.,   0.,   0.,  -2.],\n",
       "       [  0.,   0.,  -6.,   0.]])"
      ]
     },
     "execution_count": 405,
     "metadata": {},
     "output_type": "execute_result"
    }
   ],
   "source": [
    "mm.deltas"
   ]
  },
  {
   "cell_type": "code",
   "execution_count": 406,
   "metadata": {},
   "outputs": [
    {
     "data": {
      "text/plain": [
       "array([[ 3,  5,  9],\n",
       "       [11, 11, 12],\n",
       "       [ 1,  2,  8]])"
      ]
     },
     "execution_count": 406,
     "metadata": {},
     "output_type": "execute_result"
    }
   ],
   "source": [
    "mm.unit_profits[:-1, :-1]"
   ]
  },
  {
   "cell_type": "code",
   "execution_count": 407,
   "metadata": {},
   "outputs": [
    {
     "data": {
      "text/plain": [
       "array([[  0.,  20.,   0.,   0.],\n",
       "       [ 23.,   7.,   0.,   0.],\n",
       "       [  0.,  10.,  45.,   0.],\n",
       "       [  5.,   0.,   0., 105.]])"
      ]
     },
     "execution_count": 407,
     "metadata": {},
     "output_type": "execute_result"
    }
   ],
   "source": [
    "mm.sales"
   ]
  },
  {
   "cell_type": "code",
   "execution_count": 408,
   "metadata": {},
   "outputs": [
    {
     "data": {
      "text/plain": [
       "810.0"
      ]
     },
     "execution_count": 408,
     "metadata": {},
     "output_type": "execute_result"
    }
   ],
   "source": [
    "mm.calculate_overall_return()"
   ]
  },
  {
   "cell_type": "code",
   "execution_count": 45,
   "metadata": {},
   "outputs": [
    {
     "name": "stdout",
     "output_type": "stream",
     "text": [
      "[2.70833 7.79167 0.125   0.     ]\n",
      "[2.04167 2.45833 6.125   0.     ]\n",
      "[[-1.75    -0.16666  0.16667 -2.70833]\n",
      " [ 1.16666  0.75    -1.91667 -7.79167]\n",
      " [-1.16667 -0.58333  1.75    -0.125  ]\n",
      " [-2.04167 -2.45833 -6.125    0.     ]]\n"
     ]
    }
   ],
   "source": [
    "sample_arr = np.array([[  0.,   5.,  15.,   0.],\n",
    "                       [  1.,   1.,  28.,   0.],\n",
    "                       [ 22.,  31.,   2.,   0.],\n",
    "                       [  5.,   0.,   0., 105.]]) # [:-1, :-1] * mm.unit_profits[:-1, :-1])\n",
    "\n",
    "\n",
    "mask = sample_arr[:-1, :-1] !=0\n",
    "masked_array = (mm.unit_profits[:-1, :-1] * mask)\n",
    "\n",
    "A = []\n",
    "B = []\n",
    "for i in range(mask.shape[0]):\n",
    "    for j in range(mask.shape[1]):\n",
    "        if mask[i, j]:\n",
    "            row = [0]*(mask.shape[0] + mask.shape[1])\n",
    "            row[i] = 1\n",
    "            row[mask.shape[0] + j] = 1\n",
    "            A.append(row)\n",
    "            B.append(masked_array[i, j])\n",
    "\n",
    "A = np.array(A)\n",
    "B = np.array(B)\n",
    "\n",
    "solution, residuals, rank, s = np.linalg.lstsq(A, B, rcond=None)\n",
    "                \n",
    "alphas = np.append(solution[:mask.shape[0]].round(5), 0)\n",
    "betas = np.append(solution[mask.shape[0]:].round(5), 0)\n",
    "\n",
    "deltas = np.zeros(mm.unit_profits.shape)\n",
    "for idx, row in enumerate(mm.unit_profits):\n",
    "    for jdx, unit_profit in enumerate(row):\n",
    "        deltas[idx, jdx] = round(unit_profit - alphas[idx] - betas[jdx], 5)\n",
    "\n",
    "print(alphas)\n",
    "print(betas)\n",
    "print(deltas)"
   ]
  },
  {
   "cell_type": "code",
   "execution_count": 46,
   "metadata": {},
   "outputs": [
    {
     "data": {
      "text/plain": [
       "array([[-1.,  0.,  0., -3.],\n",
       "       [ 4.,  3.,  0., -6.],\n",
       "       [ 0.,  0.,  2.,  0.],\n",
       "       [-1., -2., -6.,  0.]])"
      ]
     },
     "execution_count": 46,
     "metadata": {},
     "output_type": "execute_result"
    }
   ],
   "source": [
    "mm.deltas"
   ]
  },
  {
   "cell_type": "code",
   "execution_count": 47,
   "metadata": {},
   "outputs": [
    {
     "name": "stdout",
     "output_type": "stream",
     "text": [
      "len A, row A, B: (5, 6, 5)\n"
     ]
    },
    {
     "data": {
      "text/plain": [
       "(array([3., 6., 0., 0.]), array([1., 2., 6., 0.]), array([], dtype=float64))"
      ]
     },
     "execution_count": 47,
     "metadata": {},
     "output_type": "execute_result"
    }
   ],
   "source": [
    "mm._calculate_alpha_beta()"
   ]
  },
  {
   "cell_type": "code",
   "execution_count": 48,
   "metadata": {},
   "outputs": [
    {
     "name": "stdout",
     "output_type": "stream",
     "text": [
      "[[  0.  25. 135.]\n",
      " [  0.   0. 360.]\n",
      " [ 23.  64.   0.]]\n",
      "\n",
      "Overall return:\n",
      "\n",
      "607.0\n"
     ]
    }
   ],
   "source": [
    "print(mm.calculate_returns())\n",
    "print(\"\\nOverall return:\\n\")\n",
    "print(mm.calculate_overall_return())"
   ]
  }
 ],
 "metadata": {
  "kernelspec": {
   "display_name": "Python 3",
   "language": "python",
   "name": "python3"
  },
  "language_info": {
   "codemirror_mode": {
    "name": "ipython",
    "version": 3
   },
   "file_extension": ".py",
   "mimetype": "text/x-python",
   "name": "python",
   "nbconvert_exporter": "python",
   "pygments_lexer": "ipython3",
   "version": "3.11.4"
  }
 },
 "nbformat": 4,
 "nbformat_minor": 2
}
