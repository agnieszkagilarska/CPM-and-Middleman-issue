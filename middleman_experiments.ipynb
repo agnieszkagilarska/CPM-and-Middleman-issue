{
 "cells": [
  {
   "cell_type": "code",
   "execution_count": 2,
   "metadata": {},
   "outputs": [
    {
     "name": "stderr",
     "output_type": "stream",
     "text": [
      "c:\\Users\\juziu\\AppData\\Local\\Programs\\Python\\Python311\\Lib\\site-packages\\numpy\\_distributor_init.py:30: UserWarning: loaded more than 1 DLL from .libs:\n",
      "c:\\Users\\juziu\\AppData\\Local\\Programs\\Python\\Python311\\Lib\\site-packages\\numpy\\.libs\\libopenblas.FB5AE2TYXYH2IJRDKGDGQ3XBKLKTF43H.gfortran-win_amd64.dll\n",
      "c:\\Users\\juziu\\AppData\\Local\\Programs\\Python\\Python311\\Lib\\site-packages\\numpy\\.libs\\libopenblas64__v0.3.23-gcc_10_3_0.dll\n",
      "  warnings.warn(\"loaded more than 1 DLL from .libs:\"\n"
     ]
    }
   ],
   "source": [
    "import pandas as pd\n",
    "import numpy as np"
   ]
  },
  {
   "cell_type": "code",
   "execution_count": 3,
   "metadata": {},
   "outputs": [],
   "source": [
    "# Name, Supply, Cost\n",
    "suppliers = [('D1', 20, 10), ('D2', 30, 12)]\n",
    "\n",
    "# Name, Demand, Price\n",
    "receivers = [('O1', 10, 30), ('O2', 28, 25), ('O3', 27, 30)]\n",
    "\n",
    "# rows:    suppliers\n",
    "# columns: receivers\n",
    "transport_cost_matrix = np.array([\n",
    "    [8, 14, 17],\n",
    "    [12, 9, 19]\n",
    "])"
   ]
  },
  {
   "cell_type": "code",
   "execution_count": 4,
   "metadata": {},
   "outputs": [],
   "source": [
    "def unit_profits_matrix(transport_cost_matrix, suppliers, receivers):\n",
    "    un_pr_matrix = np.empty_like(transport_cost_matrix)\n",
    "    # Suppliers\n",
    "    for i, row in enumerate(transport_cost_matrix):\n",
    "        # Receivers\n",
    "        for j, num in enumerate(row):\n",
    "            \n",
    "            un_pr_matrix[i, j] = receivers[j][2] - suppliers[i][2] - transport_cost_matrix[i, j]\n",
    "    \n",
    "    return un_pr_matrix\n",
    "\n",
    "def supply_demand_sum(suppliers, receivers, supp_idx=1, rec_idx=1):\n",
    "    supp_sum = sum([supp[supp_idx] for supp in suppliers])\n",
    "    dmnd_sum = sum([recv[rec_idx] for recv in receivers])\n",
    "    return supp_sum, dmnd_sum"
   ]
  },
  {
   "cell_type": "code",
   "execution_count": 5,
   "metadata": {},
   "outputs": [],
   "source": [
    "unit_profits = unit_profits_matrix(transport_cost_matrix, suppliers, receivers)"
   ]
  },
  {
   "cell_type": "code",
   "execution_count": 6,
   "metadata": {},
   "outputs": [
    {
     "data": {
      "text/plain": [
       "(array([0, 1, 1, 0, 0, 1], dtype=int64),\n",
       " array([0, 0, 1, 2, 1, 2], dtype=int64))"
      ]
     },
     "execution_count": 6,
     "metadata": {},
     "output_type": "execute_result"
    }
   ],
   "source": [
    "indices = np.argsort(unit_profits, axis=None)[::-1]\n",
    "indices = np.unravel_index(indices, unit_profits.shape)\n",
    "indices"
   ]
  },
  {
   "cell_type": "code",
   "execution_count": 7,
   "metadata": {},
   "outputs": [],
   "source": [
    "supp_sum, dmnd_sum = supply_demand_sum(suppliers, receivers)\n",
    "\n",
    "if supp_sum != dmnd_sum:\n",
    "    unit_profits = np.pad(unit_profits, ((0, 1), (0, 1)), 'constant', constant_values=0)\n",
    "    transport_cost_matrix = np.pad(transport_cost_matrix, ((0, 1), (0, 1)), 'constant', constant_values=0)\n",
    "    suppliers.append(('DF', dmnd_sum, 0))\n",
    "    receivers.append(('OF', supp_sum, 0))"
   ]
  },
  {
   "cell_type": "code",
   "execution_count": 8,
   "metadata": {},
   "outputs": [
    {
     "data": {
      "text/plain": [
       "(array([[12,  1,  3,  0],\n",
       "        [ 6,  4, -1,  0],\n",
       "        [ 0,  0,  0,  0]]),\n",
       " [('D1', 20, 10), ('D2', 30, 12), ('DF', 65, 0)],\n",
       " [('O1', 10, 30), ('O2', 28, 25), ('O3', 27, 30), ('OF', 50, 0)])"
      ]
     },
     "execution_count": 8,
     "metadata": {},
     "output_type": "execute_result"
    }
   ],
   "source": [
    "unit_profits, suppliers, receivers"
   ]
  },
  {
   "cell_type": "code",
   "execution_count": 9,
   "metadata": {},
   "outputs": [],
   "source": [
    "def sales_matrix(unit_profits, suppliers, receivers, supp_idx=1, rec_idx=1):\n",
    "    suppliers_cpy = [list(tup) for tup in suppliers]\n",
    "    receivers_cpy = [list(tup) for tup in receivers]\n",
    "    # We start from REAL Suppliers and Receivers:\n",
    "    sales = np.zeros(unit_profits.shape)\n",
    "    for idx, jdx in zip(*indices):\n",
    "        # Each iteration is one supplier-receiver transaction\n",
    "        unit_profit = unit_profits[idx, jdx]\n",
    "        supp_name, supply, cost = suppliers_cpy[idx]\n",
    "        recv_name, demand, price = receivers_cpy[jdx]\n",
    "        if supply == 0 or demand == 0:\n",
    "            continue\n",
    "        \n",
    "        supply_after = supply - demand\n",
    "        if supply_after >= 0:\n",
    "            # no supply\n",
    "            sales[idx, jdx] = demand\n",
    "            \n",
    "            # Update\n",
    "            suppliers_cpy[idx][supp_idx] = supply_after\n",
    "            receivers_cpy[jdx][rec_idx]  = 0\n",
    "        if supply_after < 0:\n",
    "            # no demand\n",
    "            sales[idx, jdx] = supply\n",
    "            \n",
    "            # Update\n",
    "            suppliers_cpy[idx][supp_idx] = 0\n",
    "            receivers_cpy[jdx][rec_idx]  = -supply_after\n",
    "    \n",
    "    # We go to FICTIONAL Suppliers and Receivers\n",
    "    for idx, row in enumerate(sales):\n",
    "        for jdx, num in enumerate(row):\n",
    "            # Each iteration is one supplier-receiver transaction\n",
    "            unit_profit = unit_profits[idx, jdx]\n",
    "            supp_name, supply, cost = suppliers_cpy[idx]\n",
    "            recv_name, demand, price = receivers_cpy[jdx]\n",
    "            if supply == 0 or demand == 0:\n",
    "                continue\n",
    "            \n",
    "            supply_after = supply - demand\n",
    "            if supply_after >= 0:\n",
    "                # no supply\n",
    "                sales[idx, jdx] = demand\n",
    "                \n",
    "                # Update\n",
    "                suppliers_cpy[idx][supp_idx] = supply_after\n",
    "                receivers_cpy[jdx][rec_idx]  = 0\n",
    "            if supply_after < 0:\n",
    "                # no demand\n",
    "                sales[idx, jdx] = supply\n",
    "                \n",
    "                # Update\n",
    "                suppliers_cpy[idx][supp_idx] = 0\n",
    "                receivers_cpy[jdx][rec_idx]  = -supply_after\n",
    "            \n",
    "    if (sum([supp[supp_idx] for supp in suppliers_cpy]) or\n",
    "        sum([recv[rec_idx] for recv in receivers_cpy])):\n",
    "        raise Exception(\"Supply and Demand after calculations are not zero.\")\n",
    "    return sales, suppliers_cpy, receivers_cpy"
   ]
  },
  {
   "cell_type": "code",
   "execution_count": 10,
   "metadata": {},
   "outputs": [],
   "source": [
    "sales, supp, recv = sales_matrix(unit_profits, suppliers, receivers)"
   ]
  },
  {
   "cell_type": "code",
   "execution_count": 11,
   "metadata": {},
   "outputs": [
    {
     "data": {
      "text/plain": [
       "array([ 5.4,  1.4,  6.6,  2.6, -2.4])"
      ]
     },
     "execution_count": 11,
     "metadata": {},
     "output_type": "execute_result"
    }
   ],
   "source": [
    "mask = sales[:-1, :-1] !=0\n",
    "masked_array = (unit_profits[:-1, :-1] * mask)\n",
    "\n",
    "A = []\n",
    "B = []\n",
    "for i in range(mask.shape[0]):\n",
    "    for j in range(mask.shape[1]):\n",
    "        if mask[i, j]:\n",
    "            row = [0]*(mask.shape[0] + mask.shape[1])\n",
    "            row[i] = 1\n",
    "            row[mask.shape[0] + j] = 1\n",
    "            A.append(row)\n",
    "            B.append(masked_array[i, j])\n",
    "\n",
    "A = np.array(A)\n",
    "B = np.array(B)\n",
    "\n",
    "solution, residuals, rank, s = np.linalg.lstsq(A, B, rcond=None)\n",
    "\n",
    "solution"
   ]
  },
  {
   "cell_type": "code",
   "execution_count": 12,
   "metadata": {},
   "outputs": [],
   "source": [
    "# append 0 for fictional suppliers and receivers\n",
    "alphas = np.append(solution[:2], 0)\n",
    "betas = np.append(solution[2:], 0)"
   ]
  },
  {
   "cell_type": "code",
   "execution_count": 13,
   "metadata": {},
   "outputs": [
    {
     "data": {
      "text/plain": [
       "array([[10.,  0., 10.,  0.],\n",
       "       [ 0., 28.,  2.,  0.],\n",
       "       [ 0.,  0., 15., 50.]])"
      ]
     },
     "execution_count": 13,
     "metadata": {},
     "output_type": "execute_result"
    }
   ],
   "source": [
    "sales"
   ]
  },
  {
   "cell_type": "code",
   "execution_count": 14,
   "metadata": {},
   "outputs": [],
   "source": [
    "def calculate_deltas(unit_profits, alphas, betas):\n",
    "    # Step 5 in algorithm\n",
    "    deltas = np.zeros(unit_profits.shape)\n",
    "    for idx, row in enumerate(unit_profits[:-1][:-1]):\n",
    "        for jdx, unit_profit in enumerate(row):\n",
    "            deltas[idx, jdx] = round(unit_profit - alphas[idx] - betas[jdx], 4)\n",
    "    \n",
    "    return deltas"
   ]
  },
  {
   "cell_type": "code",
   "execution_count": 25,
   "metadata": {},
   "outputs": [],
   "source": [
    "deltas = calculate_deltas(unit_profits, alphas, betas)"
   ]
  },
  {
   "cell_type": "code",
   "execution_count": 16,
   "metadata": {},
   "outputs": [
    {
     "data": {
      "text/plain": [
       "array([[10.,  0., 10.,  0.],\n",
       "       [ 0., 28.,  2.,  0.],\n",
       "       [ 0.,  0., 15., 50.]])"
      ]
     },
     "execution_count": 16,
     "metadata": {},
     "output_type": "execute_result"
    }
   ],
   "source": [
    "sales"
   ]
  },
  {
   "cell_type": "code",
   "execution_count": 17,
   "metadata": {},
   "outputs": [
    {
     "data": {
      "text/plain": [
       "array([[120.,   0.,  30.,   0.],\n",
       "       [  0., 112.,  -2.,   0.],\n",
       "       [  0.,   0.,   0.,   0.]])"
      ]
     },
     "execution_count": 17,
     "metadata": {},
     "output_type": "execute_result"
    }
   ],
   "source": [
    "unit_profits * sales"
   ]
  },
  {
   "cell_type": "code",
   "execution_count": 18,
   "metadata": {},
   "outputs": [],
   "source": [
    "def calculate_overall_return(unit_profits, sales):\n",
    "    return np.sum(unit_profits[:-1, :-1] * sales[:-1, :-1])\n",
    "\n",
    "def calculate_returns(unit_profits, sales):\n",
    "    return unit_profits[:-1, :-1] * sales[:-1, :-1]"
   ]
  },
  {
   "cell_type": "code",
   "execution_count": 19,
   "metadata": {},
   "outputs": [
    {
     "data": {
      "text/plain": [
       "260.0"
      ]
     },
     "execution_count": 19,
     "metadata": {},
     "output_type": "execute_result"
    }
   ],
   "source": [
    "calculate_overall_return(unit_profits, sales)"
   ]
  },
  {
   "cell_type": "code",
   "execution_count": 20,
   "metadata": {},
   "outputs": [
    {
     "data": {
      "text/plain": [
       "array([[120.,   0.,  30.],\n",
       "       [  0., 112.,  -2.]])"
      ]
     },
     "execution_count": 20,
     "metadata": {},
     "output_type": "execute_result"
    }
   ],
   "source": [
    "calculate_returns(unit_profits, sales)"
   ]
  },
  {
   "cell_type": "code",
   "execution_count": 21,
   "metadata": {},
   "outputs": [],
   "source": [
    "class MiddleMan:\n",
    "    def __init__(self, supp_idx=1, rec_idx=1):\n",
    "        self.supp_idx = supp_idx\n",
    "        self.rec_idx = rec_idx\n",
    "        self.suppliers = []\n",
    "        self.receivers = []\n",
    "    \n",
    "    def calculate(self):\n",
    "        self.unit_profits = self.unit_profits_matrix()\n",
    "        indices = self.calc_sorted_indices()\n",
    "        \n",
    "        supp_sum, dmnd_sum = self.supply_demand_sum()\n",
    "        \n",
    "        if supp_sum != dmnd_sum:\n",
    "            self.unit_profits = np.pad(self.unit_profits, ((0, 1), (0, 1)), 'constant', constant_values=0)\n",
    "            self.transport_cost_matrix = np.pad(self.transport_cost_matrix, ((0, 1), (0, 1)), 'constant', constant_values=0)\n",
    "            self.suppliers.append(('DF', dmnd_sum, 0))\n",
    "            self.receivers.append(('OF', supp_sum, 0))\n",
    "        \n",
    "        self.sales, supp, recv = self.sales_matrix()\n",
    "        alphas, betas = self._calculate_alpha_beta()\n",
    "        self.calculate_deltas(alphas, betas)\n",
    "        \n",
    "    def add_supplier(self, name, supply, cost):\n",
    "        self.suppliers.append((name, supply, cost))\n",
    "        \n",
    "    def add_receiver(self, name, demand, price):\n",
    "        self.receivers.append((name, demand, price))\n",
    "        \n",
    "    def add_transport_matrix(self, matrix:np.ndarray):\n",
    "        self.transport_cost_matrix = matrix\n",
    "        \n",
    "    def unit_profits_matrix(self):\n",
    "        un_pr_matrix = np.empty_like(self.transport_cost_matrix)\n",
    "        # Suppliers\n",
    "        for i, row in enumerate(self.transport_cost_matrix):\n",
    "            # Receivers\n",
    "            for j, num in enumerate(row):\n",
    "                \n",
    "                un_pr_matrix[i, j] = self.receivers[j][2] - self.suppliers[i][2] - self.transport_cost_matrix[i, j]\n",
    "        \n",
    "        return un_pr_matrix\n",
    "\n",
    "    def supply_demand_sum(self):\n",
    "        supp_sum = sum([supp[self.supp_idx] for supp in self.suppliers])\n",
    "        dmnd_sum = sum([recv[self.rec_idx] for recv in self.receivers])\n",
    "        return supp_sum, dmnd_sum\n",
    "    \n",
    "    def calc_sorted_indices(self):\n",
    "        indices = np.argsort(self.unit_profits, axis=None)[::-1]\n",
    "        indices = np.unravel_index(indices, self.unit_profits.shape)\n",
    "        return indices\n",
    "    \n",
    "    def sales_matrix(self):\n",
    "        suppliers_cpy = [list(tup) for tup in self.suppliers]\n",
    "        receivers_cpy = [list(tup) for tup in self.receivers]\n",
    "        # We start from REAL Suppliers and Receivers:\n",
    "        sales = np.zeros(self.unit_profits.shape)\n",
    "        for idx, jdx in zip(*indices):\n",
    "            # Each iteration is one supplier-receiver transaction\n",
    "            unit_profit = self.unit_profits[idx, jdx]\n",
    "            supp_name, supply, cost = suppliers_cpy[idx]\n",
    "            recv_name, demand, price = receivers_cpy[jdx]\n",
    "            if supply == 0 or demand == 0:\n",
    "                continue\n",
    "            \n",
    "            supply_after = supply - demand\n",
    "            if supply_after >= 0:\n",
    "                # no supply\n",
    "                sales[idx, jdx] = demand\n",
    "                \n",
    "                # Update\n",
    "                suppliers_cpy[idx][self.supp_idx] = supply_after\n",
    "                receivers_cpy[jdx][self.rec_idx]  = 0\n",
    "            if supply_after < 0:\n",
    "                # no demand\n",
    "                sales[idx, jdx] = supply\n",
    "                \n",
    "                # Update\n",
    "                suppliers_cpy[idx][self.supp_idx] = 0\n",
    "                receivers_cpy[jdx][self.rec_idx]  = -supply_after\n",
    "        \n",
    "        # We go to FICTIONAL Suppliers and Receivers\n",
    "        for idx, row in enumerate(sales):\n",
    "            for jdx, num in enumerate(row):\n",
    "                # Each iteration is one supplier-receiver transaction\n",
    "                unit_profit = self.unit_profits[idx, jdx]\n",
    "                supp_name, supply, cost = suppliers_cpy[idx]\n",
    "                recv_name, demand, price = receivers_cpy[jdx]\n",
    "                if supply == 0 or demand == 0:\n",
    "                    continue\n",
    "                \n",
    "                supply_after = supply - demand\n",
    "                if supply_after >= 0:\n",
    "                    # no supply\n",
    "                    sales[idx, jdx] = demand\n",
    "                    \n",
    "                    # Update\n",
    "                    suppliers_cpy[idx][self.supp_idx] = supply_after\n",
    "                    receivers_cpy[jdx][self.rec_idx]  = 0\n",
    "                if supply_after < 0:\n",
    "                    # no demand\n",
    "                    sales[idx, jdx] = supply\n",
    "                    \n",
    "                    # Update\n",
    "                    suppliers_cpy[idx][self.supp_idx] = 0\n",
    "                    receivers_cpy[jdx][self.rec_idx]  = -supply_after\n",
    "                \n",
    "        if (sum([supp[self.supp_idx] for supp in suppliers_cpy]) or\n",
    "            sum([recv[self.rec_idx] for recv in receivers_cpy])):\n",
    "            raise Exception(\"Supply and Demand after calculations are not zero.\")\n",
    "        return sales, suppliers_cpy, receivers_cpy\n",
    "    \n",
    "    def _calculate_alpha_beta(self):\n",
    "        mask = self.sales[:-1, :-1] !=0\n",
    "        masked_array = (self.unit_profits[:-1, :-1] * mask)\n",
    "\n",
    "        A = []\n",
    "        B = []\n",
    "        for i in range(mask.shape[0]):\n",
    "            for j in range(mask.shape[1]):\n",
    "                if mask[i, j]:\n",
    "                    row = [0]*(mask.shape[0] + mask.shape[1])\n",
    "                    row[i] = 1\n",
    "                    row[mask.shape[0] + j] = 1\n",
    "                    A.append(row)\n",
    "                    B.append(masked_array[i, j])\n",
    "\n",
    "        A = np.array(A)\n",
    "        B = np.array(B)\n",
    "        \n",
    "        solution, residuals, rank, s = np.linalg.lstsq(A, B, rcond=None)\n",
    "\n",
    "        alphas = np.append(solution[:2], 0)\n",
    "        betas = np.append(solution[2:], 0)\n",
    "        \n",
    "        return alphas, betas\n",
    "    \n",
    "    def calculate_deltas(self, alphas, betas):\n",
    "        # Step 5 in algorithm\n",
    "        deltas = np.zeros(self.unit_profits.shape)\n",
    "        for idx, row in enumerate(self.unit_profits[:-1][:-1]):\n",
    "            for jdx, unit_profit in enumerate(row):\n",
    "                deltas[idx, jdx] = round(unit_profit - alphas[idx] - betas[jdx], 4)\n",
    "        \n",
    "        return deltas\n",
    "    \n",
    "    def calculate_overall_return(self):\n",
    "        return np.sum(self.unit_profits[:-1, :-1] * self.sales[:-1, :-1])\n",
    "\n",
    "    def calculate_returns(self):\n",
    "        return self.unit_profits[:-1, :-1] * self.sales[:-1, :-1]"
   ]
  },
  {
   "cell_type": "code",
   "execution_count": 22,
   "metadata": {},
   "outputs": [],
   "source": [
    "mm = MiddleMan()\n",
    "mm.add_supplier('D1', 20, 10)\n",
    "mm.add_supplier('D2', 30, 12)\n",
    "\n",
    "mm.add_receiver('O1', 10, 30)\n",
    "mm.add_receiver('O2', 28, 25)\n",
    "mm.add_receiver('O3', 27, 30)\n",
    "\n",
    "transport_cost_matrix = np.array([\n",
    "    [8, 14, 17],\n",
    "    [12, 9, 19]\n",
    "])\n",
    "\n",
    "mm.add_transport_matrix(transport_cost_matrix)\n",
    "\n",
    "mm.calculate()"
   ]
  },
  {
   "cell_type": "code",
   "execution_count": 23,
   "metadata": {},
   "outputs": [
    {
     "data": {
      "text/plain": [
       "260.0"
      ]
     },
     "execution_count": 23,
     "metadata": {},
     "output_type": "execute_result"
    }
   ],
   "source": [
    "mm.calculate_overall_return()"
   ]
  },
  {
   "cell_type": "code",
   "execution_count": 24,
   "metadata": {},
   "outputs": [
    {
     "data": {
      "text/plain": [
       "array([[120.,   0.,  30.],\n",
       "       [  0., 112.,  -2.]])"
      ]
     },
     "execution_count": 24,
     "metadata": {},
     "output_type": "execute_result"
    }
   ],
   "source": [
    "mm.calculate_returns()"
   ]
  }
 ],
 "metadata": {
  "kernelspec": {
   "display_name": "Python 3",
   "language": "python",
   "name": "python3"
  },
  "language_info": {
   "codemirror_mode": {
    "name": "ipython",
    "version": 3
   },
   "file_extension": ".py",
   "mimetype": "text/x-python",
   "name": "python",
   "nbconvert_exporter": "python",
   "pygments_lexer": "ipython3",
   "version": "3.11.4"
  }
 },
 "nbformat": 4,
 "nbformat_minor": 2
}
